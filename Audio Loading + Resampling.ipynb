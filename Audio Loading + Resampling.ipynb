{
 "cells": [
  {
   "cell_type": "markdown",
   "metadata": {},
   "source": [
    "## Audio load + resample benchmark"
   ]
  },
  {
   "cell_type": "markdown",
   "metadata": {},
   "source": [
    "Let's do a loading + resampling combo benchmark. The idea is to benchmark the time it takes to load a file from disk, resample it and convert it to a pytorch tensor. We'll resample from 44.1 kHz to 16 kHz."
   ]
  },
  {
   "cell_type": "markdown",
   "metadata": {},
   "source": [
    "Methods are:\n",
    "- Method 1 : torchaudio load + torchaudio resample\n",
    "- Method 2 : librosa load + resample + convert to torch tensor\n",
    "- Method 3 : soundfile load + resample + convert to torch tensor\n",
    "- Method 4 : scipy load + resample + convert to torch tensor\n",
    "\n",
    "and a few more."
   ]
  },
  {
   "cell_type": "markdown",
   "metadata": {},
   "source": [
    "### Setup: save the following snippet as generate_audio.sh:\n"
   ]
  },
  {
   "cell_type": "markdown",
   "metadata": {},
   "source": [
    "\n",
    "```bash\n",
    "#!/usr/bin/env bash\n",
    "\n",
    "# Set the number of files to generate\n",
    "NBFILES=10\n",
    "DIR=AUDIO\n",
    "\n",
    "mkdir $DIR\n",
    "for k in $(seq -f \"%02g\" 1 10 151); do\n",
    "    mkdir $DIR/$k\n",
    "    for i in $(seq 1 $NBFILES); do\n",
    "        sox -n -r 44100 -b 16 $DIR/$k/$i.wav synth \"0:$k\" whitenoise vol 0.5 fade q 1 \"0:$k\" 1\n",
    "    done\n",
    "done\n",
    "```\n",
    "\n",
    "Then run it to generate some audio files at 44.1 kHz:"
   ]
  },
  {
   "cell_type": "code",
   "execution_count": 8,
   "metadata": {},
   "outputs": [],
   "source": [
    "import torch, torchaudio\n",
    "import torchaudio.functional as F\n",
    "import torchaudio.transforms as T\n",
    "import matplotlib.pyplot as plt\n",
    "import soundfile as sf\n",
    "from scipy.io import wavfile\n",
    "import numpy as np\n",
    "import librosa\n",
    "import pandas as pd\n",
    "\n",
    "import scipy.signal\n",
    "import resampy\n",
    "import lilfilter  # https://github.com/danpovey/filtering\n",
    "import julius  # https://github.com/adefossez/julius\n",
    "import soxr  # https://github.com/dofuuz/python-soxr\n",
    "import nnresample  # https://github.com/jthiem/nnresample"
   ]
  },
  {
   "cell_type": "markdown",
   "metadata": {},
   "source": [
    "### Resampling functions"
   ]
  },
  {
   "cell_type": "code",
   "execution_count": 9,
   "metadata": {},
   "outputs": [],
   "source": [
    "def resample_scipy(sig, P, Q):\n",
    "    return scipy.signal.resample(sig, int(len(sig)*Q/P))\n",
    "\n",
    "def resample_resampy_best(sig, P, Q):\n",
    "    return resampy.resample(sig, P, Q, filter='kaiser_best')\n",
    "\n",
    "def resample_resampy_fast(sig, P, Q):\n",
    "    return resampy.resample(sig, P, Q, filter='kaiser_fast')\n",
    "\n",
    "\n",
    "def resample_torchaudio_hann(sig, P, Q):\n",
    "    # Convert to torch if numpy\n",
    "    if isinstance(sig, np.ndarray):\n",
    "        sig = torch.from_numpy(sig).float()\n",
    "    return F.resample(sig, P, Q, resampling_method='sinc_interp_hann')\n",
    "\n",
    "def resample_torchaudio_kaiser(sig, P, Q):\n",
    "    # Convert to torch if numpy\n",
    "    if isinstance(sig, np.ndarray):\n",
    "        sig = torch.from_numpy(sig).float()\n",
    "    return F.resample(sig, P, Q, resampling_method='sinc_interp_kaiser')\n",
    "\n",
    "def resample_torchaudio_transform_hann(sig, P, Q, get_resampler=False):\n",
    "    \n",
    "    resampler = torchaudio.transforms.Resample(\n",
    "        P,\n",
    "        Q,\n",
    "        resampling_method='sinc_interp_hann',\n",
    ")\n",
    "    if get_resampler:\n",
    "        return resampler\n",
    "    \n",
    "    # Convert to torch if numpy\n",
    "    if isinstance(sig, np.ndarray):\n",
    "        sig = torch.from_numpy(sig).float()\n",
    "    return resampler(sig)\n",
    "\n",
    "def resample_torchaudio_transform_kaiser(sig, P, Q, get_resampler=False):\n",
    "    resampler = torchaudio.transforms.Resample(\n",
    "        P,\n",
    "        Q,\n",
    "        resampling_method='sinc_interp_kaiser',\n",
    ")\n",
    "    if get_resampler:\n",
    "        return resampler\n",
    "    # Convert to torch if numpy\n",
    "    if isinstance(sig, np.ndarray):\n",
    "        sig = torch.from_numpy(sig).float()\n",
    "    return resampler(sig)\n",
    "\n",
    "\n",
    "def resample_julius(sig, P, Q):\n",
    "    # If numpy convert to torch\n",
    "    if isinstance(sig, np.ndarray):\n",
    "        sig = torch.from_numpy(sig).float() \n",
    "    return julius.resample_frac(sig, P, Q)\n",
    "\n",
    "def resample_soxr(sig, P, Q):\n",
    "    return soxr.resample(sig, P, Q)\n",
    "\n",
    "def resample_nnresample(sig, P, Q):\n",
    "    return nnresample.resample(sig, Q, P)\n"
   ]
  },
  {
   "cell_type": "markdown",
   "metadata": {},
   "source": [
    "### Load functions"
   ]
  },
  {
   "cell_type": "code",
   "execution_count": 10,
   "metadata": {},
   "outputs": [],
   "source": [
    "def load_torchaudio(fp):\n",
    "    sig, rate = torchaudio.load(fp)\n",
    "    return sig.squeeze()\n",
    "\n",
    "def load_soundfile(fp):\n",
    "    sig, rate = sf.read(fp)\n",
    "    return sig\n",
    "\n",
    "def load_scipy(fp):\n",
    "    rate, sig = wavfile.read(fp)\n",
    "    sig = sig.astype('float32') / 32767\n",
    "    return sig\n",
    "\n",
    "\n",
    "def load_librosa(fp):\n",
    "    # loading with `sr=None` is disabling the internal resampling\n",
    "    sig, rate = librosa.load(fp, sr=None)\n",
    "    return sig"
   ]
  },
  {
   "cell_type": "markdown",
   "metadata": {},
   "source": [
    "### Data loading"
   ]
  },
  {
   "cell_type": "code",
   "execution_count": 11,
   "metadata": {},
   "outputs": [],
   "source": [
    "\n",
    "import os\n",
    "import os.path\n",
    "import timeit\n",
    "import argparse\n",
    "import numpy as np\n",
    "import functools\n",
    "\n",
    "\n",
    "def get_files(dir, extension):\n",
    "    audio_files = []\n",
    "    dir = os.path.expanduser(dir)\n",
    "    for root, _, fnames in sorted(os.walk(dir)):\n",
    "        for fname in fnames:\n",
    "            if fname.endswith(extension):\n",
    "                path = os.path.join(root, fname)\n",
    "                item = path\n",
    "                audio_files.append(item)\n",
    "    return audio_files\n",
    "\n",
    "\n",
    "class DF_writer(object):\n",
    "    def __init__(self, columns):\n",
    "        self.df = pd.DataFrame(columns=columns)\n",
    "        self.columns = columns\n",
    "\n",
    "    def append(self, **row_data):\n",
    "        # Use concat to append to dataframe\n",
    "        self.df = pd.concat([self.df, pd.DataFrame(row_data, index=[0])], ignore_index=True)\n",
    "\n",
    "class AudioFolder(torch.utils.data.Dataset):\n",
    "    def __init__(\n",
    "        self,\n",
    "        root,\n",
    "        sample_rate=44100,\n",
    "        resample_rate=16000,\n",
    "        extension='wav',\n",
    "        load_lib=\"librosa\",\n",
    "        resample_lib=\"scipy\",\n",
    "    ):\n",
    "        self.root = os.path.expanduser(root)\n",
    "        self.data = []\n",
    "        self.sample_rate = sample_rate\n",
    "        self.resample_rate = resample_rate\n",
    "        self.audio_files = get_files(dir=self.root, extension=extension)\n",
    "        self.loader_function = globals()['load_%s' % load_lib]\n",
    "        self.resample_lib = resample_lib\n",
    "        if 'transform' in resample_lib:\n",
    "            # Call the function to get the resampler\n",
    "            self.resample_function = globals()['resample_%s' % resample_lib](None, sample_rate, resample_rate, get_resampler=True)\n",
    "        else:\n",
    "            self.resample_function = globals()['resample_%s' % resample_lib]\n",
    "        # if\n",
    "\n",
    "    def __getitem__(self, index):\n",
    "        audio = self.loader_function(self.audio_files[index])\n",
    "        args = (self.sample_rate, self.resample_rate) if 'transform' not in self.resample_lib else []\n",
    "        audio = self.resample_function(audio, *args)\n",
    "        return torch.as_tensor(audio).view(1, 1, -1)\n",
    "\n",
    "    def __len__(self):\n",
    "        return len(self.audio_files)\n",
    "    "
   ]
  },
  {
   "cell_type": "markdown",
   "metadata": {},
   "source": [
    "### Speed benchmark"
   ]
  },
  {
   "cell_type": "code",
   "execution_count": 12,
   "metadata": {},
   "outputs": [
    {
     "name": "stdout",
     "output_type": "stream",
     "text": [
      "Testing:  scipy soxr\n"
     ]
    },
    {
     "name": "stderr",
     "output_type": "stream",
     "text": [
      "/tmp/ipykernel_34958/1578768373.py:28: FutureWarning: The behavior of DataFrame concatenation with empty or all-NA entries is deprecated. In a future version, this will no longer exclude empty or all-NA columns when determining the result dtypes. To retain the old behavior, exclude the relevant entries before the concat operation.\n",
      "  self.df = pd.concat([self.df, pd.DataFrame(row_data, index=[0])], ignore_index=True)\n"
     ]
    },
    {
     "name": "stdout",
     "output_type": "stream",
     "text": [
      "Testing:  librosa soxr\n",
      "Testing:  soundfile soxr\n",
      "Testing:  torchaudio-sox_io torchaudio_hann\n"
     ]
    },
    {
     "name": "stderr",
     "output_type": "stream",
     "text": [
      "/tmp/ipykernel_34958/1117872437.py:52: UserWarning: torchaudio._backend.set_audio_backend has been deprecated. With dispatcher enabled, this function is no-op. You can remove the function call.\n",
      "  torchaudio.set_audio_backend(backend)\n"
     ]
    },
    {
     "name": "stdout",
     "output_type": "stream",
     "text": [
      "Testing:  torchaudio-soundfile torchaudio_hann\n",
      "Testing:  torchaudio-soundfile torchaudio_kaiser\n",
      "Testing:  torchaudio-soundfile soxr\n",
      "Testing:  torchaudio-soundfile torchaudio_transform_hann\n",
      "Testing:  torchaudio-soundfile julius\n"
     ]
    }
   ],
   "source": [
    "import os\n",
    "import time\n",
    "\n",
    "ext = 'wav'\n",
    "columns = [\n",
    "        'ext',\n",
    "        'load_lib',\n",
    "        'resamp_lib',\n",
    "        'duration',\n",
    "        'time',\n",
    "    ]\n",
    "\n",
    "repeat = 3\n",
    "SR = 44100\n",
    "RSR = 16000\n",
    "\n",
    "\n",
    "store = DF_writer(columns)\n",
    "\n",
    "# audio formats to be bench\n",
    "# libraries to be benchmarked\n",
    "load_libs = [\n",
    "    'scipy',\n",
    "    'librosa',\n",
    "    'soundfile',\n",
    "    'torchaudio-sox_io',\n",
    "    'torchaudio-soundfile',\n",
    "    'torchaudio-soundfile',\n",
    "    'torchaudio-soundfile',\n",
    "    'torchaudio-soundfile',\n",
    "    'torchaudio-soundfile',\n",
    "]\n",
    "\n",
    "resamping_libs = [\n",
    "    'soxr',\n",
    "    'soxr',\n",
    "    'soxr',\n",
    "    'torchaudio_hann',\n",
    "    'torchaudio_hann',\n",
    "    'torchaudio_kaiser',\n",
    "    'soxr',\n",
    "    'torchaudio_transform_hann',\n",
    "    'julius',\n",
    "]\n",
    "    \n",
    "\n",
    "for load_lib, resamp_lib in zip(load_libs, resamping_libs):\n",
    "    print(\"Testing: \", load_lib, resamp_lib)\n",
    "    if \"torchaudio\" in load_lib:\n",
    "        backend = load_lib.split(\"torchaudio-\")[-1]\n",
    "        import torchaudio\n",
    "        torchaudio.set_audio_backend(backend)\n",
    "        load_lib = \"torchaudio\"\n",
    "    else:\n",
    "        call_fun = 'load_' + load_lib\n",
    "\n",
    "    for root, dirs, fnames in sorted(os.walk('AUDIO')):\n",
    "        for audio_dir in dirs:\n",
    "            try:\n",
    "                duration = int(audio_dir)\n",
    "                data = torch.utils.data.DataLoader(\n",
    "                    AudioFolder(\n",
    "                        os.path.join(root, audio_dir),\n",
    "                        sample_rate=SR,\n",
    "                        resample_rate=RSR,\n",
    "                        load_lib=load_lib,\n",
    "                        resample_lib=resamp_lib,\n",
    "                        extension=ext\n",
    "                    ),\n",
    "                    batch_size=1,\n",
    "                    num_workers=0,\n",
    "                    shuffle=False\n",
    "                )\n",
    "                start = time.time()\n",
    "\n",
    "                for i in range(repeat):\n",
    "                    for X in data:\n",
    "                        X.max()\n",
    "\n",
    "                end = time.time()\n",
    "                store.append(\n",
    "                    ext=ext,\n",
    "                    load_lib=load_lib,\n",
    "                    resamp_lib=resamp_lib,\n",
    "                    duration=duration,\n",
    "                    time=float(end-start) / (len(data) * repeat),\n",
    "                )\n",
    "            except:\n",
    "                # \"Error but continue\"\n",
    "                # continue\n",
    "                raise\n",
    "\n",
    "store.df.to_pickle(\"results_benchmark.pickle\")"
   ]
  },
  {
   "cell_type": "code",
   "execution_count": 13,
   "metadata": {},
   "outputs": [
    {
     "data": {
      "text/html": [
       "<div>\n",
       "<style scoped>\n",
       "    .dataframe tbody tr th:only-of-type {\n",
       "        vertical-align: middle;\n",
       "    }\n",
       "\n",
       "    .dataframe tbody tr th {\n",
       "        vertical-align: top;\n",
       "    }\n",
       "\n",
       "    .dataframe thead th {\n",
       "        text-align: right;\n",
       "    }\n",
       "</style>\n",
       "<table border=\"1\" class=\"dataframe\">\n",
       "  <thead>\n",
       "    <tr style=\"text-align: right;\">\n",
       "      <th></th>\n",
       "      <th>ext</th>\n",
       "      <th>load_lib</th>\n",
       "      <th>resamp_lib</th>\n",
       "      <th>duration</th>\n",
       "      <th>time</th>\n",
       "    </tr>\n",
       "  </thead>\n",
       "  <tbody>\n",
       "    <tr>\n",
       "      <th>0</th>\n",
       "      <td>wav</td>\n",
       "      <td>scipy</td>\n",
       "      <td>soxr</td>\n",
       "      <td>121</td>\n",
       "      <td>0.045868</td>\n",
       "    </tr>\n",
       "    <tr>\n",
       "      <th>1</th>\n",
       "      <td>wav</td>\n",
       "      <td>scipy</td>\n",
       "      <td>soxr</td>\n",
       "      <td>131</td>\n",
       "      <td>0.056144</td>\n",
       "    </tr>\n",
       "    <tr>\n",
       "      <th>2</th>\n",
       "      <td>wav</td>\n",
       "      <td>scipy</td>\n",
       "      <td>soxr</td>\n",
       "      <td>101</td>\n",
       "      <td>0.045073</td>\n",
       "    </tr>\n",
       "    <tr>\n",
       "      <th>3</th>\n",
       "      <td>wav</td>\n",
       "      <td>scipy</td>\n",
       "      <td>soxr</td>\n",
       "      <td>111</td>\n",
       "      <td>0.047834</td>\n",
       "    </tr>\n",
       "    <tr>\n",
       "      <th>4</th>\n",
       "      <td>wav</td>\n",
       "      <td>scipy</td>\n",
       "      <td>soxr</td>\n",
       "      <td>151</td>\n",
       "      <td>0.064846</td>\n",
       "    </tr>\n",
       "    <tr>\n",
       "      <th>...</th>\n",
       "      <td>...</td>\n",
       "      <td>...</td>\n",
       "      <td>...</td>\n",
       "      <td>...</td>\n",
       "      <td>...</td>\n",
       "    </tr>\n",
       "    <tr>\n",
       "      <th>139</th>\n",
       "      <td>wav</td>\n",
       "      <td>torchaudio</td>\n",
       "      <td>julius</td>\n",
       "      <td>91</td>\n",
       "      <td>0.043822</td>\n",
       "    </tr>\n",
       "    <tr>\n",
       "      <th>140</th>\n",
       "      <td>wav</td>\n",
       "      <td>torchaudio</td>\n",
       "      <td>julius</td>\n",
       "      <td>41</td>\n",
       "      <td>0.030104</td>\n",
       "    </tr>\n",
       "    <tr>\n",
       "      <th>141</th>\n",
       "      <td>wav</td>\n",
       "      <td>torchaudio</td>\n",
       "      <td>julius</td>\n",
       "      <td>51</td>\n",
       "      <td>0.030355</td>\n",
       "    </tr>\n",
       "    <tr>\n",
       "      <th>142</th>\n",
       "      <td>wav</td>\n",
       "      <td>torchaudio</td>\n",
       "      <td>julius</td>\n",
       "      <td>11</td>\n",
       "      <td>0.015263</td>\n",
       "    </tr>\n",
       "    <tr>\n",
       "      <th>143</th>\n",
       "      <td>wav</td>\n",
       "      <td>torchaudio</td>\n",
       "      <td>julius</td>\n",
       "      <td>1</td>\n",
       "      <td>0.011474</td>\n",
       "    </tr>\n",
       "  </tbody>\n",
       "</table>\n",
       "<p>144 rows × 5 columns</p>\n",
       "</div>"
      ],
      "text/plain": [
       "     ext    load_lib resamp_lib duration      time\n",
       "0    wav       scipy       soxr      121  0.045868\n",
       "1    wav       scipy       soxr      131  0.056144\n",
       "2    wav       scipy       soxr      101  0.045073\n",
       "3    wav       scipy       soxr      111  0.047834\n",
       "4    wav       scipy       soxr      151  0.064846\n",
       "..   ...         ...        ...      ...       ...\n",
       "139  wav  torchaudio     julius       91  0.043822\n",
       "140  wav  torchaudio     julius       41  0.030104\n",
       "141  wav  torchaudio     julius       51  0.030355\n",
       "142  wav  torchaudio     julius       11  0.015263\n",
       "143  wav  torchaudio     julius        1  0.011474\n",
       "\n",
       "[144 rows x 5 columns]"
      ]
     },
     "execution_count": 13,
     "metadata": {},
     "output_type": "execute_result"
    }
   ],
   "source": [
    "store.df"
   ]
  },
  {
   "cell_type": "code",
   "execution_count": 37,
   "metadata": {},
   "outputs": [
    {
     "name": "stderr",
     "output_type": "stream",
     "text": [
      "No artists with labels found to put in legend.  Note that artists whose label start with an underscore are ignored when legend() is called with no argument.\n"
     ]
    },
    {
     "data": {
      "text/plain": [
       "<Figure size 640x480 with 0 Axes>"
      ]
     },
     "metadata": {},
     "output_type": "display_data"
    },
    {
     "data": {
      "image/png": "[encoded data removed]",
      "text/plain": [
       "<Figure size 1000x500 with 1 Axes>"
      ]
     },
     "metadata": {},
     "output_type": "display_data"
    }
   ],
   "source": [
    "import pandas as pd\n",
    "import seaborn as sns\n",
    "import matplotlib.pyplot as plt\n",
    "\n",
    "\n",
    "dfs = []\n",
    "try:\n",
    "    dfs.append(\n",
    "        pd.read_pickle(\"results/benchmark.pickle\")\n",
    "    )\n",
    "except FileNotFoundError:\n",
    "    df = store.df.copy()\n",
    "\n",
    "# df = pd.concat(dfs, ignore_index=True)\n",
    "\n",
    "sns.set_style(\"whitegrid\")\n",
    "\n",
    "# Merge load_lib and resamp_lib into one column\n",
    "df['L: load, R: resample libs'] = 'L: ' + df['load_lib'] + '- \\n' + 'R: ' + df['resamp_lib']\n",
    "df = df.drop(columns=['resamp_lib'])\n",
    "df = df.drop(columns=['load_lib'])\n",
    "\n",
    "fig = plt.figure()\n",
    "\n",
    "# Cat plot, with load_lib on x-axis and time on y-axis\n",
    "g = sns.catplot(x=\"L: load, R: resample libs\", y=\"time\", data=df, kind='bar', height=5, aspect=2)\n",
    "g.set_xticklabels(rotation=30)\n",
    "\n",
    "plt.legend(loc='upper right')\n",
    "plt.ylabel(\"Time (s)\")\n",
    "g.savefig(\"benchmark_%s.png\")"
   ]
  },
  {
   "cell_type": "code",
   "execution_count": 29,
   "metadata": {},
   "outputs": [
    {
     "ename": "TypeError",
     "evalue": "agg function failed [how->mean,dtype->object]",
     "output_type": "error",
     "traceback": [
      "\u001b[0;31m---------------------------------------------------------------------------\u001b[0m",
      "\u001b[0;31mTypeError\u001b[0m                                 Traceback (most recent call last)",
      "File \u001b[0;32m~/anaconda3/envs/ddsp/lib/python3.10/site-packages/pandas/core/groupby/groupby.py:1874\u001b[0m, in \u001b[0;36mGroupBy._agg_py_fallback\u001b[0;34m(self, how, values, ndim, alt)\u001b[0m\n\u001b[1;32m   1873\u001b[0m \u001b[39mtry\u001b[39;00m:\n\u001b[0;32m-> 1874\u001b[0m     res_values \u001b[39m=\u001b[39m \u001b[39mself\u001b[39;49m\u001b[39m.\u001b[39;49mgrouper\u001b[39m.\u001b[39;49magg_series(ser, alt, preserve_dtype\u001b[39m=\u001b[39;49m\u001b[39mTrue\u001b[39;49;00m)\n\u001b[1;32m   1875\u001b[0m \u001b[39mexcept\u001b[39;00m \u001b[39mException\u001b[39;00m \u001b[39mas\u001b[39;00m err:\n",
      "File \u001b[0;32m~/anaconda3/envs/ddsp/lib/python3.10/site-packages/pandas/core/groupby/ops.py:850\u001b[0m, in \u001b[0;36mBaseGrouper.agg_series\u001b[0;34m(self, obj, func, preserve_dtype)\u001b[0m\n\u001b[1;32m    848\u001b[0m     preserve_dtype \u001b[39m=\u001b[39m \u001b[39mTrue\u001b[39;00m\n\u001b[0;32m--> 850\u001b[0m result \u001b[39m=\u001b[39m \u001b[39mself\u001b[39;49m\u001b[39m.\u001b[39;49m_aggregate_series_pure_python(obj, func)\n\u001b[1;32m    852\u001b[0m npvalues \u001b[39m=\u001b[39m lib\u001b[39m.\u001b[39mmaybe_convert_objects(result, try_float\u001b[39m=\u001b[39m\u001b[39mFalse\u001b[39;00m)\n",
      "File \u001b[0;32m~/anaconda3/envs/ddsp/lib/python3.10/site-packages/pandas/core/groupby/ops.py:871\u001b[0m, in \u001b[0;36mBaseGrouper._aggregate_series_pure_python\u001b[0;34m(self, obj, func)\u001b[0m\n\u001b[1;32m    870\u001b[0m \u001b[39mfor\u001b[39;00m i, group \u001b[39min\u001b[39;00m \u001b[39menumerate\u001b[39m(splitter):\n\u001b[0;32m--> 871\u001b[0m     res \u001b[39m=\u001b[39m func(group)\n\u001b[1;32m    872\u001b[0m     res \u001b[39m=\u001b[39m extract_result(res)\n",
      "File \u001b[0;32m~/anaconda3/envs/ddsp/lib/python3.10/site-packages/pandas/core/groupby/groupby.py:2380\u001b[0m, in \u001b[0;36mGroupBy.mean.<locals>.<lambda>\u001b[0;34m(x)\u001b[0m\n\u001b[1;32m   2377\u001b[0m \u001b[39melse\u001b[39;00m:\n\u001b[1;32m   2378\u001b[0m     result \u001b[39m=\u001b[39m \u001b[39mself\u001b[39m\u001b[39m.\u001b[39m_cython_agg_general(\n\u001b[1;32m   2379\u001b[0m         \u001b[39m\"\u001b[39m\u001b[39mmean\u001b[39m\u001b[39m\"\u001b[39m,\n\u001b[0;32m-> 2380\u001b[0m         alt\u001b[39m=\u001b[39m\u001b[39mlambda\u001b[39;00m x: Series(x)\u001b[39m.\u001b[39;49mmean(numeric_only\u001b[39m=\u001b[39;49mnumeric_only),\n\u001b[1;32m   2381\u001b[0m         numeric_only\u001b[39m=\u001b[39mnumeric_only,\n\u001b[1;32m   2382\u001b[0m     )\n\u001b[1;32m   2383\u001b[0m     \u001b[39mreturn\u001b[39;00m result\u001b[39m.\u001b[39m__finalize__(\u001b[39mself\u001b[39m\u001b[39m.\u001b[39mobj, method\u001b[39m=\u001b[39m\u001b[39m\"\u001b[39m\u001b[39mgroupby\u001b[39m\u001b[39m\"\u001b[39m)\n",
      "File \u001b[0;32m~/anaconda3/envs/ddsp/lib/python3.10/site-packages/pandas/core/series.py:6221\u001b[0m, in \u001b[0;36mSeries.mean\u001b[0;34m(self, axis, skipna, numeric_only, **kwargs)\u001b[0m\n\u001b[1;32m   6213\u001b[0m \u001b[39m@doc\u001b[39m(make_doc(\u001b[39m\"\u001b[39m\u001b[39mmean\u001b[39m\u001b[39m\"\u001b[39m, ndim\u001b[39m=\u001b[39m\u001b[39m1\u001b[39m))\n\u001b[1;32m   6214\u001b[0m \u001b[39mdef\u001b[39;00m \u001b[39mmean\u001b[39m(\n\u001b[1;32m   6215\u001b[0m     \u001b[39mself\u001b[39m,\n\u001b[0;32m   (...)\u001b[0m\n\u001b[1;32m   6219\u001b[0m     \u001b[39m*\u001b[39m\u001b[39m*\u001b[39mkwargs,\n\u001b[1;32m   6220\u001b[0m ):\n\u001b[0;32m-> 6221\u001b[0m     \u001b[39mreturn\u001b[39;00m NDFrame\u001b[39m.\u001b[39;49mmean(\u001b[39mself\u001b[39;49m, axis, skipna, numeric_only, \u001b[39m*\u001b[39;49m\u001b[39m*\u001b[39;49mkwargs)\n",
      "File \u001b[0;32m~/anaconda3/envs/ddsp/lib/python3.10/site-packages/pandas/core/generic.py:11984\u001b[0m, in \u001b[0;36mNDFrame.mean\u001b[0;34m(self, axis, skipna, numeric_only, **kwargs)\u001b[0m\n\u001b[1;32m  11977\u001b[0m \u001b[39mdef\u001b[39;00m \u001b[39mmean\u001b[39m(\n\u001b[1;32m  11978\u001b[0m     \u001b[39mself\u001b[39m,\n\u001b[1;32m  11979\u001b[0m     axis: Axis \u001b[39m|\u001b[39m \u001b[39mNone\u001b[39;00m \u001b[39m=\u001b[39m \u001b[39m0\u001b[39m,\n\u001b[0;32m   (...)\u001b[0m\n\u001b[1;32m  11982\u001b[0m     \u001b[39m*\u001b[39m\u001b[39m*\u001b[39mkwargs,\n\u001b[1;32m  11983\u001b[0m ) \u001b[39m-\u001b[39m\u001b[39m>\u001b[39m Series \u001b[39m|\u001b[39m \u001b[39mfloat\u001b[39m:\n\u001b[0;32m> 11984\u001b[0m     \u001b[39mreturn\u001b[39;00m \u001b[39mself\u001b[39;49m\u001b[39m.\u001b[39;49m_stat_function(\n\u001b[1;32m  11985\u001b[0m         \u001b[39m\"\u001b[39;49m\u001b[39mmean\u001b[39;49m\u001b[39m\"\u001b[39;49m, nanops\u001b[39m.\u001b[39;49mnanmean, axis, skipna, numeric_only, \u001b[39m*\u001b[39;49m\u001b[39m*\u001b[39;49mkwargs\n\u001b[1;32m  11986\u001b[0m     )\n",
      "File \u001b[0;32m~/anaconda3/envs/ddsp/lib/python3.10/site-packages/pandas/core/generic.py:11941\u001b[0m, in \u001b[0;36mNDFrame._stat_function\u001b[0;34m(self, name, func, axis, skipna, numeric_only, **kwargs)\u001b[0m\n\u001b[1;32m  11939\u001b[0m validate_bool_kwarg(skipna, \u001b[39m\"\u001b[39m\u001b[39mskipna\u001b[39m\u001b[39m\"\u001b[39m, none_allowed\u001b[39m=\u001b[39m\u001b[39mFalse\u001b[39;00m)\n\u001b[0;32m> 11941\u001b[0m \u001b[39mreturn\u001b[39;00m \u001b[39mself\u001b[39;49m\u001b[39m.\u001b[39;49m_reduce(\n\u001b[1;32m  11942\u001b[0m     func, name\u001b[39m=\u001b[39;49mname, axis\u001b[39m=\u001b[39;49maxis, skipna\u001b[39m=\u001b[39;49mskipna, numeric_only\u001b[39m=\u001b[39;49mnumeric_only\n\u001b[1;32m  11943\u001b[0m )\n",
      "File \u001b[0;32m~/anaconda3/envs/ddsp/lib/python3.10/site-packages/pandas/core/series.py:6129\u001b[0m, in \u001b[0;36mSeries._reduce\u001b[0;34m(self, op, name, axis, skipna, numeric_only, filter_type, **kwds)\u001b[0m\n\u001b[1;32m   6125\u001b[0m     \u001b[39mraise\u001b[39;00m \u001b[39mTypeError\u001b[39;00m(\n\u001b[1;32m   6126\u001b[0m         \u001b[39mf\u001b[39m\u001b[39m\"\u001b[39m\u001b[39mSeries.\u001b[39m\u001b[39m{\u001b[39;00mname\u001b[39m}\u001b[39;00m\u001b[39m does not allow \u001b[39m\u001b[39m{\u001b[39;00mkwd_name\u001b[39m}\u001b[39;00m\u001b[39m=\u001b[39m\u001b[39m{\u001b[39;00mnumeric_only\u001b[39m}\u001b[39;00m\u001b[39m \u001b[39m\u001b[39m\"\u001b[39m\n\u001b[1;32m   6127\u001b[0m         \u001b[39m\"\u001b[39m\u001b[39mwith non-numeric dtypes.\u001b[39m\u001b[39m\"\u001b[39m\n\u001b[1;32m   6128\u001b[0m     )\n\u001b[0;32m-> 6129\u001b[0m \u001b[39mreturn\u001b[39;00m op(delegate, skipna\u001b[39m=\u001b[39;49mskipna, \u001b[39m*\u001b[39;49m\u001b[39m*\u001b[39;49mkwds)\n",
      "File \u001b[0;32m~/anaconda3/envs/ddsp/lib/python3.10/site-packages/pandas/core/nanops.py:147\u001b[0m, in \u001b[0;36mbottleneck_switch.__call__.<locals>.f\u001b[0;34m(values, axis, skipna, **kwds)\u001b[0m\n\u001b[1;32m    146\u001b[0m \u001b[39melse\u001b[39;00m:\n\u001b[0;32m--> 147\u001b[0m     result \u001b[39m=\u001b[39m alt(values, axis\u001b[39m=\u001b[39;49maxis, skipna\u001b[39m=\u001b[39;49mskipna, \u001b[39m*\u001b[39;49m\u001b[39m*\u001b[39;49mkwds)\n\u001b[1;32m    149\u001b[0m \u001b[39mreturn\u001b[39;00m result\n",
      "File \u001b[0;32m~/anaconda3/envs/ddsp/lib/python3.10/site-packages/pandas/core/nanops.py:404\u001b[0m, in \u001b[0;36m_datetimelike_compat.<locals>.new_func\u001b[0;34m(values, axis, skipna, mask, **kwargs)\u001b[0m\n\u001b[1;32m    402\u001b[0m     mask \u001b[39m=\u001b[39m isna(values)\n\u001b[0;32m--> 404\u001b[0m result \u001b[39m=\u001b[39m func(values, axis\u001b[39m=\u001b[39;49maxis, skipna\u001b[39m=\u001b[39;49mskipna, mask\u001b[39m=\u001b[39;49mmask, \u001b[39m*\u001b[39;49m\u001b[39m*\u001b[39;49mkwargs)\n\u001b[1;32m    406\u001b[0m \u001b[39mif\u001b[39;00m datetimelike:\n",
      "File \u001b[0;32m~/anaconda3/envs/ddsp/lib/python3.10/site-packages/pandas/core/nanops.py:720\u001b[0m, in \u001b[0;36mnanmean\u001b[0;34m(values, axis, skipna, mask)\u001b[0m\n\u001b[1;32m    719\u001b[0m the_sum \u001b[39m=\u001b[39m values\u001b[39m.\u001b[39msum(axis, dtype\u001b[39m=\u001b[39mdtype_sum)\n\u001b[0;32m--> 720\u001b[0m the_sum \u001b[39m=\u001b[39m _ensure_numeric(the_sum)\n\u001b[1;32m    722\u001b[0m \u001b[39mif\u001b[39;00m axis \u001b[39mis\u001b[39;00m \u001b[39mnot\u001b[39;00m \u001b[39mNone\u001b[39;00m \u001b[39mand\u001b[39;00m \u001b[39mgetattr\u001b[39m(the_sum, \u001b[39m\"\u001b[39m\u001b[39mndim\u001b[39m\u001b[39m\"\u001b[39m, \u001b[39mFalse\u001b[39;00m):\n",
      "File \u001b[0;32m~/anaconda3/envs/ddsp/lib/python3.10/site-packages/pandas/core/nanops.py:1693\u001b[0m, in \u001b[0;36m_ensure_numeric\u001b[0;34m(x)\u001b[0m\n\u001b[1;32m   1691\u001b[0m \u001b[39mif\u001b[39;00m \u001b[39misinstance\u001b[39m(x, \u001b[39mstr\u001b[39m):\n\u001b[1;32m   1692\u001b[0m     \u001b[39m# GH#44008, GH#36703 avoid casting e.g. strings to numeric\u001b[39;00m\n\u001b[0;32m-> 1693\u001b[0m     \u001b[39mraise\u001b[39;00m \u001b[39mTypeError\u001b[39;00m(\u001b[39mf\u001b[39m\u001b[39m\"\u001b[39m\u001b[39mCould not convert string \u001b[39m\u001b[39m'\u001b[39m\u001b[39m{\u001b[39;00mx\u001b[39m}\u001b[39;00m\u001b[39m'\u001b[39m\u001b[39m to numeric\u001b[39m\u001b[39m\"\u001b[39m)\n\u001b[1;32m   1694\u001b[0m \u001b[39mtry\u001b[39;00m:\n",
      "\u001b[0;31mTypeError\u001b[0m: Could not convert string 'wavwavwavwavwavwavwavwavwavwavwavwavwavwavwavwav' to numeric",
      "\nThe above exception was the direct cause of the following exception:\n",
      "\u001b[0;31mTypeError\u001b[0m                                 Traceback (most recent call last)",
      "\u001b[1;32m/home/bernardo/Projects/audio-resampling-in-python/Audio Loading + Resampling.ipynb Cell 17\u001b[0m line \u001b[0;36m2\n\u001b[1;32m      <a href='vscode-notebook-cell:/home/bernardo/Projects/audio-resampling-in-python/Audio%20Loading%20%2B%20Resampling.ipynb#X31sZmlsZQ%3D%3D?line=0'>1</a>\u001b[0m \u001b[39m# Average time per lib and show df\u001b[39;00m\n\u001b[0;32m----> <a href='vscode-notebook-cell:/home/bernardo/Projects/audio-resampling-in-python/Audio%20Loading%20%2B%20Resampling.ipynb#X31sZmlsZQ%3D%3D?line=1'>2</a>\u001b[0m df\u001b[39m.\u001b[39;49mdrop(columns\u001b[39m=\u001b[39;49m[\u001b[39m'\u001b[39;49m\u001b[39mduration\u001b[39;49m\u001b[39m'\u001b[39;49m])\u001b[39m.\u001b[39;49mgroupby([\u001b[39m'\u001b[39;49m\u001b[39mL: load, R: resample libs\u001b[39;49m\u001b[39m'\u001b[39;49m])\u001b[39m.\u001b[39;49mmean()\n",
      "File \u001b[0;32m~/anaconda3/envs/ddsp/lib/python3.10/site-packages/pandas/core/groupby/groupby.py:2378\u001b[0m, in \u001b[0;36mGroupBy.mean\u001b[0;34m(self, numeric_only, engine, engine_kwargs)\u001b[0m\n\u001b[1;32m   2371\u001b[0m     \u001b[39mreturn\u001b[39;00m \u001b[39mself\u001b[39m\u001b[39m.\u001b[39m_numba_agg_general(\n\u001b[1;32m   2372\u001b[0m         grouped_mean,\n\u001b[1;32m   2373\u001b[0m         executor\u001b[39m.\u001b[39mfloat_dtype_mapping,\n\u001b[1;32m   2374\u001b[0m         engine_kwargs,\n\u001b[1;32m   2375\u001b[0m         min_periods\u001b[39m=\u001b[39m\u001b[39m0\u001b[39m,\n\u001b[1;32m   2376\u001b[0m     )\n\u001b[1;32m   2377\u001b[0m \u001b[39melse\u001b[39;00m:\n\u001b[0;32m-> 2378\u001b[0m     result \u001b[39m=\u001b[39m \u001b[39mself\u001b[39;49m\u001b[39m.\u001b[39;49m_cython_agg_general(\n\u001b[1;32m   2379\u001b[0m         \u001b[39m\"\u001b[39;49m\u001b[39mmean\u001b[39;49m\u001b[39m\"\u001b[39;49m,\n\u001b[1;32m   2380\u001b[0m         alt\u001b[39m=\u001b[39;49m\u001b[39mlambda\u001b[39;49;00m x: Series(x)\u001b[39m.\u001b[39;49mmean(numeric_only\u001b[39m=\u001b[39;49mnumeric_only),\n\u001b[1;32m   2381\u001b[0m         numeric_only\u001b[39m=\u001b[39;49mnumeric_only,\n\u001b[1;32m   2382\u001b[0m     )\n\u001b[1;32m   2383\u001b[0m     \u001b[39mreturn\u001b[39;00m result\u001b[39m.\u001b[39m__finalize__(\u001b[39mself\u001b[39m\u001b[39m.\u001b[39mobj, method\u001b[39m=\u001b[39m\u001b[39m\"\u001b[39m\u001b[39mgroupby\u001b[39m\u001b[39m\"\u001b[39m)\n",
      "File \u001b[0;32m~/anaconda3/envs/ddsp/lib/python3.10/site-packages/pandas/core/groupby/groupby.py:1929\u001b[0m, in \u001b[0;36mGroupBy._cython_agg_general\u001b[0;34m(self, how, alt, numeric_only, min_count, **kwargs)\u001b[0m\n\u001b[1;32m   1926\u001b[0m     result \u001b[39m=\u001b[39m \u001b[39mself\u001b[39m\u001b[39m.\u001b[39m_agg_py_fallback(how, values, ndim\u001b[39m=\u001b[39mdata\u001b[39m.\u001b[39mndim, alt\u001b[39m=\u001b[39malt)\n\u001b[1;32m   1927\u001b[0m     \u001b[39mreturn\u001b[39;00m result\n\u001b[0;32m-> 1929\u001b[0m new_mgr \u001b[39m=\u001b[39m data\u001b[39m.\u001b[39;49mgrouped_reduce(array_func)\n\u001b[1;32m   1930\u001b[0m res \u001b[39m=\u001b[39m \u001b[39mself\u001b[39m\u001b[39m.\u001b[39m_wrap_agged_manager(new_mgr)\n\u001b[1;32m   1931\u001b[0m out \u001b[39m=\u001b[39m \u001b[39mself\u001b[39m\u001b[39m.\u001b[39m_wrap_aggregated_output(res)\n",
      "File \u001b[0;32m~/anaconda3/envs/ddsp/lib/python3.10/site-packages/pandas/core/internals/managers.py:1428\u001b[0m, in \u001b[0;36mBlockManager.grouped_reduce\u001b[0;34m(self, func)\u001b[0m\n\u001b[1;32m   1424\u001b[0m \u001b[39mif\u001b[39;00m blk\u001b[39m.\u001b[39mis_object:\n\u001b[1;32m   1425\u001b[0m     \u001b[39m# split on object-dtype blocks bc some columns may raise\u001b[39;00m\n\u001b[1;32m   1426\u001b[0m     \u001b[39m#  while others do not.\u001b[39;00m\n\u001b[1;32m   1427\u001b[0m     \u001b[39mfor\u001b[39;00m sb \u001b[39min\u001b[39;00m blk\u001b[39m.\u001b[39m_split():\n\u001b[0;32m-> 1428\u001b[0m         applied \u001b[39m=\u001b[39m sb\u001b[39m.\u001b[39;49mapply(func)\n\u001b[1;32m   1429\u001b[0m         result_blocks \u001b[39m=\u001b[39m extend_blocks(applied, result_blocks)\n\u001b[1;32m   1430\u001b[0m \u001b[39melse\u001b[39;00m:\n",
      "File \u001b[0;32m~/anaconda3/envs/ddsp/lib/python3.10/site-packages/pandas/core/internals/blocks.py:366\u001b[0m, in \u001b[0;36mBlock.apply\u001b[0;34m(self, func, **kwargs)\u001b[0m\n\u001b[1;32m    360\u001b[0m \u001b[39m@final\u001b[39m\n\u001b[1;32m    361\u001b[0m \u001b[39mdef\u001b[39;00m \u001b[39mapply\u001b[39m(\u001b[39mself\u001b[39m, func, \u001b[39m*\u001b[39m\u001b[39m*\u001b[39mkwargs) \u001b[39m-\u001b[39m\u001b[39m>\u001b[39m \u001b[39mlist\u001b[39m[Block]:\n\u001b[1;32m    362\u001b[0m \u001b[39m    \u001b[39m\u001b[39m\"\"\"\u001b[39;00m\n\u001b[1;32m    363\u001b[0m \u001b[39m    apply the function to my values; return a block if we are not\u001b[39;00m\n\u001b[1;32m    364\u001b[0m \u001b[39m    one\u001b[39;00m\n\u001b[1;32m    365\u001b[0m \u001b[39m    \"\"\"\u001b[39;00m\n\u001b[0;32m--> 366\u001b[0m     result \u001b[39m=\u001b[39m func(\u001b[39mself\u001b[39;49m\u001b[39m.\u001b[39;49mvalues, \u001b[39m*\u001b[39;49m\u001b[39m*\u001b[39;49mkwargs)\n\u001b[1;32m    368\u001b[0m     result \u001b[39m=\u001b[39m maybe_coerce_values(result)\n\u001b[1;32m    369\u001b[0m     \u001b[39mreturn\u001b[39;00m \u001b[39mself\u001b[39m\u001b[39m.\u001b[39m_split_op_result(result)\n",
      "File \u001b[0;32m~/anaconda3/envs/ddsp/lib/python3.10/site-packages/pandas/core/groupby/groupby.py:1926\u001b[0m, in \u001b[0;36mGroupBy._cython_agg_general.<locals>.array_func\u001b[0;34m(values)\u001b[0m\n\u001b[1;32m   1923\u001b[0m \u001b[39melse\u001b[39;00m:\n\u001b[1;32m   1924\u001b[0m     \u001b[39mreturn\u001b[39;00m result\n\u001b[0;32m-> 1926\u001b[0m result \u001b[39m=\u001b[39m \u001b[39mself\u001b[39;49m\u001b[39m.\u001b[39;49m_agg_py_fallback(how, values, ndim\u001b[39m=\u001b[39;49mdata\u001b[39m.\u001b[39;49mndim, alt\u001b[39m=\u001b[39;49malt)\n\u001b[1;32m   1927\u001b[0m \u001b[39mreturn\u001b[39;00m result\n",
      "File \u001b[0;32m~/anaconda3/envs/ddsp/lib/python3.10/site-packages/pandas/core/groupby/groupby.py:1878\u001b[0m, in \u001b[0;36mGroupBy._agg_py_fallback\u001b[0;34m(self, how, values, ndim, alt)\u001b[0m\n\u001b[1;32m   1876\u001b[0m     msg \u001b[39m=\u001b[39m \u001b[39mf\u001b[39m\u001b[39m\"\u001b[39m\u001b[39magg function failed [how->\u001b[39m\u001b[39m{\u001b[39;00mhow\u001b[39m}\u001b[39;00m\u001b[39m,dtype->\u001b[39m\u001b[39m{\u001b[39;00mser\u001b[39m.\u001b[39mdtype\u001b[39m}\u001b[39;00m\u001b[39m]\u001b[39m\u001b[39m\"\u001b[39m\n\u001b[1;32m   1877\u001b[0m     \u001b[39m# preserve the kind of exception that raised\u001b[39;00m\n\u001b[0;32m-> 1878\u001b[0m     \u001b[39mraise\u001b[39;00m \u001b[39mtype\u001b[39m(err)(msg) \u001b[39mfrom\u001b[39;00m \u001b[39merr\u001b[39;00m\n\u001b[1;32m   1880\u001b[0m \u001b[39mif\u001b[39;00m ser\u001b[39m.\u001b[39mdtype \u001b[39m==\u001b[39m \u001b[39mobject\u001b[39m:\n\u001b[1;32m   1881\u001b[0m     res_values \u001b[39m=\u001b[39m res_values\u001b[39m.\u001b[39mastype(\u001b[39mobject\u001b[39m, copy\u001b[39m=\u001b[39m\u001b[39mFalse\u001b[39;00m)\n",
      "\u001b[0;31mTypeError\u001b[0m: agg function failed [how->mean,dtype->object]"
     ]
    }
   ],
   "source": [
    "# Average time per lib and show df\n",
    "df.drop(columns=['duration']).groupby(['L: load, R: resample libs']).mean()"
   ]
  },
  {
   "cell_type": "code",
   "execution_count": 35,
   "metadata": {},
   "outputs": [],
   "source": [
    "df['time'] = pd.to_numeric(df['time'], errors='coerce')\n",
    "results = df.groupby('L: load, R: resample libs')['time'].mean() * 1000"
   ]
  },
  {
   "cell_type": "code",
   "execution_count": 36,
   "metadata": {},
   "outputs": [
    {
     "data": {
      "text/plain": [
       "L: load, R: resample libs\n",
       "L: torchaudio- \\nR: torchaudio_hann              28.058083\n",
       "L: torchaudio- \\nR: torchaudio_kaiser            29.464524\n",
       "L: torchaudio- \\nR: torchaudio_transform_hann    31.858430\n",
       "L: scipy- \\nR: soxr                              33.637649\n",
       "L: torchaudio- \\nR: soxr                         38.724915\n",
       "L: torchaudio- \\nR: julius                       39.991616\n",
       "L: soundfile- \\nR: soxr                          42.511529\n",
       "L: librosa- \\nR: soxr                            47.683907\n",
       "Name: time, dtype: float64"
      ]
     },
     "execution_count": 36,
     "metadata": {},
     "output_type": "execute_result"
    }
   ],
   "source": [
    "results.sort_values()"
   ]
  },
  {
   "cell_type": "code",
   "execution_count": null,
   "metadata": {},
   "outputs": [],
   "source": []
  }
 ],
 "metadata": {
  "kernelspec": {
   "display_name": "ddsp",
   "language": "python",
   "name": "python3"
  },
  "language_info": {
   "codemirror_mode": {
    "name": "ipython",
    "version": 3
   },
   "file_extension": ".py",
   "mimetype": "text/x-python",
   "name": "python",
   "nbconvert_exporter": "python",
   "pygments_lexer": "ipython3",
   "version": "3.10.13"
  }
 },
 "nbformat": 4,
 "nbformat_minor": 2
}
