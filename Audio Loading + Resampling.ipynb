{
 "cells": [
  {
   "cell_type": "markdown",
   "metadata": {},
   "source": [
    "## Audio load + resample benchmark"
   ]
  },
  {
   "cell_type": "markdown",
   "metadata": {},
   "source": [
    "Let's do a loading + resampling combo benchmark. The idea is to benchmark the time it takes to load a file from disk, resample it and convert it to a pytorch tensor. We'll resample from 44.1 kHz to 16 kHz."
   ]
  },
  {
   "cell_type": "markdown",
   "metadata": {},
   "source": [
    "Methods are:\n",
    "- Method 1 : torchaudio load + torchaudio resample\n",
    "- Method 2 : librosa load + resample + convert to torch tensor\n",
    "- Method 3 : soundfile load + resample + convert to torch tensor\n",
    "- Method 4 : scipy load + resample + convert to torch tensor\n",
    "\n",
    "and a few more."
   ]
  },
  {
   "cell_type": "markdown",
   "metadata": {},
   "source": [
    "### Setup: save the following snippet as generate_audio.sh:\n"
   ]
  },
  {
   "cell_type": "markdown",
   "metadata": {},
   "source": [
    "\n",
    "```bash\n",
    "#!/usr/bin/env bash\n",
    "\n",
    "# Set the number of files to generate\n",
    "NBFILES=10\n",
    "DIR=AUDIO\n",
    "\n",
    "mkdir $DIR\n",
    "for k in $(seq -f \"%02g\" 1 10 151); do\n",
    "    mkdir $DIR/$k\n",
    "    for i in $(seq 1 $NBFILES); do\n",
    "        sox -n -r 44100 -b 16 $DIR/$k/$i.wav synth \"0:$k\" whitenoise vol 0.5 fade q 1 \"0:$k\" 1\n",
    "    done\n",
    "done\n",
    "```\n",
    "\n",
    "Then run it to generate some audio files at 44.1 kHz:"
   ]
  },
  {
   "cell_type": "code",
   "execution_count": 2,
   "metadata": {},
   "outputs": [],
   "source": [
    "import torch, torchaudio\n",
    "import torchaudio.functional as F\n",
    "import torchaudio.transforms as T\n",
    "import matplotlib.pyplot as plt\n",
    "import soundfile as sf\n",
    "from scipy.io import wavfile\n",
    "import numpy as np\n",
    "import librosa\n",
    "import pandas as pd\n",
    "\n",
    "import scipy.signal\n",
    "import resampy\n",
    "import lilfilter  # https://github.com/danpovey/filtering\n",
    "import julius  # https://github.com/adefossez/julius\n",
    "import soxr  # https://github.com/dofuuz/python-soxr\n",
    "import nnresample  # https://github.com/jthiem/nnresample"
   ]
  },
  {
   "cell_type": "markdown",
   "metadata": {},
   "source": [
    "### Resampling functions"
   ]
  },
  {
   "cell_type": "code",
   "execution_count": 3,
   "metadata": {},
   "outputs": [],
   "source": [
    "def resample_scipy(sig, P, Q):\n",
    "    return scipy.signal.resample(sig, int(len(sig)*Q/P))\n",
    "\n",
    "def resample_resampy_best(sig, P, Q):\n",
    "    return resampy.resample(sig, P, Q, filter='kaiser_best')\n",
    "\n",
    "def resample_resampy_fast(sig, P, Q):\n",
    "    return resampy.resample(sig, P, Q, filter='kaiser_fast')\n",
    "\n",
    "\n",
    "def resample_torchaudio_hann(sig, P, Q):\n",
    "    # Convert to torch if numpy\n",
    "    if isinstance(sig, np.ndarray):\n",
    "        sig = torch.from_numpy(sig).float()\n",
    "    return F.resample(sig, P, Q, resampling_method='sinc_interp_hann')\n",
    "\n",
    "def resample_torchaudio_kaiser(sig, P, Q):\n",
    "    # Convert to torch if numpy\n",
    "    if isinstance(sig, np.ndarray):\n",
    "        sig = torch.from_numpy(sig).float()\n",
    "    return F.resample(sig, P, Q, resampling_method='sinc_interp_kaiser')\n",
    "\n",
    "def resample_torchaudio_transform_hann(sig, P, Q, get_resampler=False):\n",
    "    \n",
    "    resampler = torchaudio.transforms.Resample(\n",
    "        P,\n",
    "        Q,\n",
    "        resampling_method='sinc_interp_hann',\n",
    ")\n",
    "    if get_resampler:\n",
    "        return resampler\n",
    "    \n",
    "    # Convert to torch if numpy\n",
    "    if isinstance(sig, np.ndarray):\n",
    "        sig = torch.from_numpy(sig).float()\n",
    "    return resampler(sig)\n",
    "\n",
    "def resample_torchaudio_transform_kaiser(sig, P, Q, get_resampler=False):\n",
    "    resampler = torchaudio.transforms.Resample(\n",
    "        P,\n",
    "        Q,\n",
    "        resampling_method='sinc_interp_kaiser',\n",
    ")\n",
    "    if get_resampler:\n",
    "        return resampler\n",
    "    # Convert to torch if numpy\n",
    "    if isinstance(sig, np.ndarray):\n",
    "        sig = torch.from_numpy(sig).float()\n",
    "    return resampler(sig)\n",
    "\n",
    "\n",
    "def resample_julius(sig, P, Q):\n",
    "    # If numpy convert to torch\n",
    "    if isinstance(sig, np.ndarray):\n",
    "        sig = torch.from_numpy(sig).float() \n",
    "    return julius.resample_frac(sig, P, Q)\n",
    "\n",
    "def resample_soxr(sig, P, Q):\n",
    "    return soxr.resample(sig, P, Q)\n",
    "\n",
    "def resample_nnresample(sig, P, Q):\n",
    "    return nnresample.resample(sig, Q, P)\n"
   ]
  },
  {
   "cell_type": "markdown",
   "metadata": {},
   "source": [
    "### Load functions"
   ]
  },
  {
   "cell_type": "code",
   "execution_count": 4,
   "metadata": {},
   "outputs": [],
   "source": [
    "def load_torchaudio(fp):\n",
    "    sig, rate = torchaudio.load(fp)\n",
    "    return sig.squeeze()\n",
    "\n",
    "def load_soundfile(fp):\n",
    "    sig, rate = sf.read(fp)\n",
    "    return sig\n",
    "\n",
    "def load_scipy(fp):\n",
    "    rate, sig = wavfile.read(fp)\n",
    "    sig = sig.astype('float32') / 32767\n",
    "    return sig\n",
    "\n",
    "\n",
    "def load_librosa(fp):\n",
    "    # loading with `sr=None` is disabling the internal resampling\n",
    "    sig, rate = librosa.load(fp, sr=None)\n",
    "    return sig"
   ]
  },
  {
   "cell_type": "markdown",
   "metadata": {},
   "source": [
    "### Data loading"
   ]
  },
  {
   "cell_type": "code",
   "execution_count": 5,
   "metadata": {},
   "outputs": [],
   "source": [
    "\n",
    "import os\n",
    "import os.path\n",
    "import timeit\n",
    "import argparse\n",
    "import numpy as np\n",
    "import functools\n",
    "\n",
    "\n",
    "def get_files(dir, extension):\n",
    "    audio_files = []\n",
    "    dir = os.path.expanduser(dir)\n",
    "    for root, _, fnames in sorted(os.walk(dir)):\n",
    "        for fname in fnames:\n",
    "            if fname.endswith(extension):\n",
    "                path = os.path.join(root, fname)\n",
    "                item = path\n",
    "                audio_files.append(item)\n",
    "    return audio_files\n",
    "\n",
    "\n",
    "class DF_writer(object):\n",
    "    def __init__(self, columns):\n",
    "        self.df = pd.DataFrame(columns=columns)\n",
    "        self.columns = columns\n",
    "\n",
    "    def append(self, **row_data):\n",
    "        # Use concat to append to dataframe\n",
    "        self.df = pd.concat([self.df, pd.DataFrame(row_data, index=[0])], ignore_index=True)\n",
    "\n",
    "class AudioFolder(torch.utils.data.Dataset):\n",
    "    def __init__(\n",
    "        self,\n",
    "        root,\n",
    "        sample_rate=44100,\n",
    "        resample_rate=16000,\n",
    "        extension='wav',\n",
    "        load_lib=\"librosa\",\n",
    "        resample_lib=\"scipy\",\n",
    "    ):\n",
    "        self.root = os.path.expanduser(root)\n",
    "        self.data = []\n",
    "        self.sample_rate = sample_rate\n",
    "        self.resample_rate = resample_rate\n",
    "        self.audio_files = get_files(dir=self.root, extension=extension)\n",
    "        self.loader_function = globals()['load_%s' % load_lib]\n",
    "        self.resample_lib = resample_lib\n",
    "        if 'transform' in resample_lib:\n",
    "            # Call the function to get the resampler\n",
    "            self.resample_function = globals()['resample_%s' % resample_lib](None, sample_rate, resample_rate, get_resampler=True)\n",
    "        else:\n",
    "            self.resample_function = globals()['resample_%s' % resample_lib]\n",
    "        # if\n",
    "\n",
    "    def __getitem__(self, index):\n",
    "        audio = self.loader_function(self.audio_files[index])\n",
    "        args = (self.sample_rate, self.resample_rate) if 'transform' not in self.resample_lib else []\n",
    "        audio = self.resample_function(audio, *args)\n",
    "        return torch.as_tensor(audio).view(1, 1, -1)\n",
    "\n",
    "    def __len__(self):\n",
    "        return len(self.audio_files)\n",
    "    "
   ]
  },
  {
   "cell_type": "markdown",
   "metadata": {},
   "source": [
    "### Speed benchmark"
   ]
  },
  {
   "cell_type": "code",
   "execution_count": 23,
   "metadata": {},
   "outputs": [
    {
     "name": "stdout",
     "output_type": "stream",
     "text": [
      "Testing:  scipy soxr\n"
     ]
    },
    {
     "name": "stderr",
     "output_type": "stream",
     "text": [
      "/tmp/ipykernel_36700/1578768373.py:28: FutureWarning: The behavior of DataFrame concatenation with empty or all-NA entries is deprecated. In a future version, this will no longer exclude empty or all-NA columns when determining the result dtypes. To retain the old behavior, exclude the relevant entries before the concat operation.\n",
      "  self.df = pd.concat([self.df, pd.DataFrame(row_data, index=[0])], ignore_index=True)\n"
     ]
    },
    {
     "name": "stdout",
     "output_type": "stream",
     "text": [
      "Testing:  librosa soxr\n",
      "Testing:  soundfile soxr\n",
      "Testing:  torchaudio_sox_io torchaudio_hann\n"
     ]
    },
    {
     "name": "stderr",
     "output_type": "stream",
     "text": [
      "/tmp/ipykernel_36700/4083240806.py:56: UserWarning: torchaudio._backend.set_audio_backend has been deprecated. With dispatcher enabled, this function is no-op. You can remove the function call.\n",
      "  torchaudio.set_audio_backend(backend)\n"
     ]
    },
    {
     "name": "stdout",
     "output_type": "stream",
     "text": [
      "Testing:  torchaudio_sox_io torchaudio_kaiser\n",
      "Testing:  torchaudio_soundfile torchaudio_hann\n",
      "Testing:  torchaudio_soundfile torchaudio_kaiser\n",
      "Testing:  torchaudio_soundfile soxr\n",
      "Testing:  torchaudio_sox_io soxr\n",
      "Testing:  torchaudio_soundfile torchaudio_transform_hann\n",
      "Testing:  torchaudio_soundfile julius\n"
     ]
    }
   ],
   "source": [
    "import os\n",
    "import time\n",
    "\n",
    "ext = 'wav'\n",
    "columns = [\n",
    "        'ext',\n",
    "        'load_lib',\n",
    "        'resamp_lib',\n",
    "        'duration',\n",
    "        'time',\n",
    "    ]\n",
    "\n",
    "repeat = 3\n",
    "SR = 44100\n",
    "RSR = 16000\n",
    "\n",
    "\n",
    "store = DF_writer(columns)\n",
    "\n",
    "# audio formats to be bench\n",
    "# libraries to be benchmarked\n",
    "load_libs = [\n",
    "    'scipy',\n",
    "    'librosa',\n",
    "    'soundfile',\n",
    "    'torchaudio_sox_io',\n",
    "    'torchaudio_sox_io',\n",
    "    'torchaudio_soundfile',\n",
    "    'torchaudio_soundfile',\n",
    "    'torchaudio_soundfile',\n",
    "    'torchaudio_sox_io',\n",
    "    'torchaudio_soundfile',\n",
    "    'torchaudio_soundfile',\n",
    "]\n",
    "\n",
    "resamping_libs = [\n",
    "    'soxr',\n",
    "    'soxr',\n",
    "    'soxr',\n",
    "    'torchaudio_hann',\n",
    "    'torchaudio_kaiser',\n",
    "    'torchaudio_hann',\n",
    "    'torchaudio_kaiser',\n",
    "    'soxr',\n",
    "    'soxr',\n",
    "    'torchaudio_transform_hann',\n",
    "    'julius',\n",
    "]\n",
    "    \n",
    "\n",
    "for load_lib, resamp_lib in zip(load_libs, resamping_libs):\n",
    "    print(\"Testing: \", load_lib, resamp_lib)\n",
    "    if \"torchaudio\" in load_lib:\n",
    "        backend = load_lib.split(\"torchaudio_\")[-1]\n",
    "        import torchaudio\n",
    "        torchaudio.set_audio_backend(backend)\n",
    "        call_lib = \"torchaudio\"\n",
    "    else:\n",
    "        call_lib = load_lib\n",
    "\n",
    "    for root, dirs, fnames in sorted(os.walk('AUDIO')):\n",
    "        for audio_dir in dirs:\n",
    "            try:\n",
    "                duration = int(audio_dir)\n",
    "                data = torch.utils.data.DataLoader(\n",
    "                    AudioFolder(\n",
    "                        os.path.join(root, audio_dir),\n",
    "                        sample_rate=SR,\n",
    "                        resample_rate=RSR,\n",
    "                        load_lib=call_lib,\n",
    "                        resample_lib=resamp_lib,\n",
    "                        extension=ext\n",
    "                    ),\n",
    "                    batch_size=1,\n",
    "                    num_workers=0,\n",
    "                    shuffle=False\n",
    "                )\n",
    "                start = time.time()\n",
    "\n",
    "                for i in range(repeat):\n",
    "                    for X in data:\n",
    "                        X.max()\n",
    "\n",
    "                end = time.time()\n",
    "                store.append(\n",
    "                    ext=ext,\n",
    "                    load_lib=load_lib,\n",
    "                    resamp_lib=resamp_lib,\n",
    "                    duration=duration,\n",
    "                    time=float(end-start) / (len(data) * repeat),\n",
    "                )\n",
    "            except:\n",
    "                # \"Error but continue\"\n",
    "                # continue\n",
    "                raise\n",
    "\n",
    "store.df.to_pickle(\"results_benchmark.pickle\")"
   ]
  },
  {
   "cell_type": "code",
   "execution_count": 24,
   "metadata": {},
   "outputs": [
    {
     "data": {
      "text/html": [
       "<div>\n",
       "<style scoped>\n",
       "    .dataframe tbody tr th:only-of-type {\n",
       "        vertical-align: middle;\n",
       "    }\n",
       "\n",
       "    .dataframe tbody tr th {\n",
       "        vertical-align: top;\n",
       "    }\n",
       "\n",
       "    .dataframe thead th {\n",
       "        text-align: right;\n",
       "    }\n",
       "</style>\n",
       "<table border=\"1\" class=\"dataframe\">\n",
       "  <thead>\n",
       "    <tr style=\"text-align: right;\">\n",
       "      <th></th>\n",
       "      <th>ext</th>\n",
       "      <th>load_lib</th>\n",
       "      <th>resamp_lib</th>\n",
       "      <th>duration</th>\n",
       "      <th>time</th>\n",
       "    </tr>\n",
       "  </thead>\n",
       "  <tbody>\n",
       "    <tr>\n",
       "      <th>0</th>\n",
       "      <td>wav</td>\n",
       "      <td>scipy</td>\n",
       "      <td>soxr</td>\n",
       "      <td>121</td>\n",
       "      <td>0.045113</td>\n",
       "    </tr>\n",
       "    <tr>\n",
       "      <th>1</th>\n",
       "      <td>wav</td>\n",
       "      <td>scipy</td>\n",
       "      <td>soxr</td>\n",
       "      <td>131</td>\n",
       "      <td>0.049549</td>\n",
       "    </tr>\n",
       "    <tr>\n",
       "      <th>2</th>\n",
       "      <td>wav</td>\n",
       "      <td>scipy</td>\n",
       "      <td>soxr</td>\n",
       "      <td>101</td>\n",
       "      <td>0.037494</td>\n",
       "    </tr>\n",
       "    <tr>\n",
       "      <th>3</th>\n",
       "      <td>wav</td>\n",
       "      <td>scipy</td>\n",
       "      <td>soxr</td>\n",
       "      <td>111</td>\n",
       "      <td>0.040844</td>\n",
       "    </tr>\n",
       "    <tr>\n",
       "      <th>4</th>\n",
       "      <td>wav</td>\n",
       "      <td>scipy</td>\n",
       "      <td>soxr</td>\n",
       "      <td>151</td>\n",
       "      <td>0.053035</td>\n",
       "    </tr>\n",
       "    <tr>\n",
       "      <th>...</th>\n",
       "      <td>...</td>\n",
       "      <td>...</td>\n",
       "      <td>...</td>\n",
       "      <td>...</td>\n",
       "      <td>...</td>\n",
       "    </tr>\n",
       "    <tr>\n",
       "      <th>171</th>\n",
       "      <td>wav</td>\n",
       "      <td>torchaudio_soundfile</td>\n",
       "      <td>julius</td>\n",
       "      <td>91</td>\n",
       "      <td>0.042692</td>\n",
       "    </tr>\n",
       "    <tr>\n",
       "      <th>172</th>\n",
       "      <td>wav</td>\n",
       "      <td>torchaudio_soundfile</td>\n",
       "      <td>julius</td>\n",
       "      <td>41</td>\n",
       "      <td>0.025531</td>\n",
       "    </tr>\n",
       "    <tr>\n",
       "      <th>173</th>\n",
       "      <td>wav</td>\n",
       "      <td>torchaudio_soundfile</td>\n",
       "      <td>julius</td>\n",
       "      <td>51</td>\n",
       "      <td>0.030890</td>\n",
       "    </tr>\n",
       "    <tr>\n",
       "      <th>174</th>\n",
       "      <td>wav</td>\n",
       "      <td>torchaudio_soundfile</td>\n",
       "      <td>julius</td>\n",
       "      <td>11</td>\n",
       "      <td>0.014049</td>\n",
       "    </tr>\n",
       "    <tr>\n",
       "      <th>175</th>\n",
       "      <td>wav</td>\n",
       "      <td>torchaudio_soundfile</td>\n",
       "      <td>julius</td>\n",
       "      <td>1</td>\n",
       "      <td>0.011718</td>\n",
       "    </tr>\n",
       "  </tbody>\n",
       "</table>\n",
       "<p>176 rows × 5 columns</p>\n",
       "</div>"
      ],
      "text/plain": [
       "     ext              load_lib resamp_lib duration      time\n",
       "0    wav                 scipy       soxr      121  0.045113\n",
       "1    wav                 scipy       soxr      131  0.049549\n",
       "2    wav                 scipy       soxr      101  0.037494\n",
       "3    wav                 scipy       soxr      111  0.040844\n",
       "4    wav                 scipy       soxr      151  0.053035\n",
       "..   ...                   ...        ...      ...       ...\n",
       "171  wav  torchaudio_soundfile     julius       91  0.042692\n",
       "172  wav  torchaudio_soundfile     julius       41  0.025531\n",
       "173  wav  torchaudio_soundfile     julius       51  0.030890\n",
       "174  wav  torchaudio_soundfile     julius       11  0.014049\n",
       "175  wav  torchaudio_soundfile     julius        1  0.011718\n",
       "\n",
       "[176 rows x 5 columns]"
      ]
     },
     "execution_count": 24,
     "metadata": {},
     "output_type": "execute_result"
    }
   ],
   "source": [
    "store.df"
   ]
  },
  {
   "cell_type": "code",
   "execution_count": 25,
   "metadata": {},
   "outputs": [
    {
     "name": "stderr",
     "output_type": "stream",
     "text": [
      "No artists with labels found to put in legend.  Note that artists whose label start with an underscore are ignored when legend() is called with no argument.\n"
     ]
    },
    {
     "data": {
      "text/plain": [
       "<Figure size 640x480 with 0 Axes>"
      ]
     },
     "metadata": {},
     "output_type": "display_data"
    },
    {
     "data": {
      "image/png": "[encoded data removed]",
      "text/plain": [
       "<Figure size 1000x500 with 1 Axes>"
      ]
     },
     "metadata": {},
     "output_type": "display_data"
    }
   ],
   "source": [
    "import pandas as pd\n",
    "import seaborn as sns\n",
    "import matplotlib.pyplot as plt\n",
    "\n",
    "\n",
    "dfs = []\n",
    "try:\n",
    "    dfs.append(\n",
    "        pd.read_pickle(\"results/benchmark.pickle\")\n",
    "    )\n",
    "except FileNotFoundError:\n",
    "    df = store.df.copy()\n",
    "\n",
    "# df = pd.concat(dfs, ignore_index=True)\n",
    "\n",
    "sns.set_style(\"whitegrid\")\n",
    "\n",
    "# Merge load_lib and resamp_lib into one column\n",
    "df['L: load, R: resample libs'] = 'L: ' + df['load_lib'] + '- \\n' + 'R: ' + df['resamp_lib']\n",
    "df = df.drop(columns=['resamp_lib'])\n",
    "df = df.drop(columns=['load_lib'])\n",
    "\n",
    "fig = plt.figure()\n",
    "\n",
    "# Cat plot, with load_lib on x-axis and time on y-axis\n",
    "g = sns.catplot(x=\"L: load, R: resample libs\", y=\"time\", data=df, kind='bar', height=5, aspect=2)\n",
    "g.set_xticklabels(rotation=30)\n",
    "\n",
    "plt.legend(loc='upper right')\n",
    "plt.ylabel(\"Time (s)\")\n",
    "g.savefig(\"benchmark_%s.png\")"
   ]
  },
  {
   "cell_type": "code",
   "execution_count": 27,
   "metadata": {},
   "outputs": [],
   "source": [
    "df['time'] = pd.to_numeric(df['time'], errors='coerce')\n",
    "results = df.groupby('L: load, R: resample libs')['time'].mean() * 1000"
   ]
  },
  {
   "cell_type": "code",
   "execution_count": 28,
   "metadata": {},
   "outputs": [
    {
     "data": {
      "text/plain": [
       "L: load, R: resample libs\n",
       "L: torchaudio_soundfile- \\nR: torchaudio_transform_hann    26.424762\n",
       "L: torchaudio_soundfile- \\nR: torchaudio_hann              27.050398\n",
       "L: torchaudio_sox_io- \\nR: torchaudio_hann                 27.127326\n",
       "L: torchaudio_soundfile- \\nR: torchaudio_kaiser            27.153835\n",
       "L: torchaudio_sox_io- \\nR: torchaudio_kaiser               27.646094\n",
       "L: scipy- \\nR: soxr                                        28.060912\n",
       "L: torchaudio_sox_io- \\nR: soxr                            37.961860\n",
       "L: torchaudio_soundfile- \\nR: soxr                         37.999496\n",
       "L: torchaudio_soundfile- \\nR: julius                       39.168839\n",
       "L: librosa- \\nR: soxr                                      39.238550\n",
       "L: soundfile- \\nR: soxr                                    42.834313\n",
       "Name: time, dtype: float64"
      ]
     },
     "execution_count": 28,
     "metadata": {},
     "output_type": "execute_result"
    }
   ],
   "source": [
    "results.sort_values()"
   ]
  },
  {
   "cell_type": "code",
   "execution_count": null,
   "metadata": {},
   "outputs": [],
   "source": []
  }
 ],
 "metadata": {
  "kernelspec": {
   "display_name": "ddsp",
   "language": "python",
   "name": "python3"
  },
  "language_info": {
   "codemirror_mode": {
    "name": "ipython",
    "version": 3
   },
   "file_extension": ".py",
   "mimetype": "text/x-python",
   "name": "python",
   "nbconvert_exporter": "python",
   "pygments_lexer": "ipython3",
   "version": "3.10.13"
  }
 },
 "nbformat": 4,
 "nbformat_minor": 2
}
